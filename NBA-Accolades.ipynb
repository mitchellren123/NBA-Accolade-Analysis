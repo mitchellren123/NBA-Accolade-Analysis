{
 "cells": [
  {
   "cell_type": "code",
   "execution_count": 1,
   "metadata": {},
   "outputs": [],
   "source": [
    "import pandas as pd\n",
    "import numpy as np\n",
    "import matplotlib.pyplot as plt\n",
    "import seaborn as sns"
   ]
  },
  {
   "cell_type": "code",
   "execution_count": 21,
   "metadata": {},
   "outputs": [],
   "source": [
    "from urllib.request import urlopen"
   ]
  },
  {
   "cell_type": "code",
   "execution_count": 22,
   "metadata": {},
   "outputs": [],
   "source": [
    "from bs4 import BeautifulSoup"
   ]
  },
  {
   "cell_type": "code",
   "execution_count": 27,
   "metadata": {},
   "outputs": [
    {
     "name": "stdout",
     "output_type": "stream",
     "text": [
      "['1991', '1992', '1993', '1994', '1995', '1996', '1997', '1998', '1999', '2000', '2001', '2002', '2003', '2004', '2005', '2006', '2007', '2008', '2009', '2010', '2011', '2012', '2013', '2014', '2015', '2016', '2017', '2018', '2019', '2020', '2021', '2022', '2023']\n"
     ]
    }
   ],
   "source": [
    "integer_years = list(range(1991,2024))\n",
    "string_years = list(map(str, integer_years))\n",
    "print(string_years)"
   ]
  },
  {
   "cell_type": "code",
   "execution_count": 28,
   "metadata": {},
   "outputs": [],
   "source": [
    "def scrape_advanced_stats(years):\n",
    "    advanced_stats_df = pd.DataFrame(columns = ['Yr', 'Player', 'Pos', 'Age', 'Tm', 'G', 'MP', 'PER', 'TS%', '3PAr',\n",
    "       'FTr', 'ORB%', 'DRB%', 'TRB%', 'AST%', 'STL%', 'BLK%', 'TOV%', 'USG%', 'OWS', 'DWS', 'WS', 'WS/48', 'OBPM', 'DBPM', 'BPM', 'VORP'])\n",
    "    for year in years:\n",
    "        url = 'https://www.basketball-reference.com/leagues/NBA_' + year + '_advanced.html'\n",
    "        html = urlopen(url)\n",
    "        soup = BeautifulSoup(html, features=\"lxml\")\n",
    "        headers = [th.getText() for th in soup.findAll('tr', limit=2)[0].findAll('th')]\n",
    "        headers.remove('Rk')\n",
    "        headers.insert(0, 'Yr')\n",
    "        headers = list(map(lambda x: x.replace(' ', 'Blank'), headers))\n",
    "        rows = soup.findAll('tr')[1:]\n",
    "        rows_data = [[td.getText() for td in rows[i].findAll('td')]\n",
    "                    for i in range(len(rows))]\n",
    "        rows_data = list(filter(None,rows_data))\n",
    "        for i in range(0, len(rows_data)):\n",
    "            rows_data[i].insert(0, year)\n",
    "        year_advanced_stats_df = pd.DataFrame(rows_data, columns = headers)\n",
    "        year_advanced_stats_df = year_advanced_stats_df.drop(columns = '\\xa0', axis = 1)\n",
    "        advanced_stats_df = advanced_stats_df.append(year_advanced_stats_df)\n",
    "    print(advanced_stats_df)\n",
    "    advanced_stats_df.to_csv(\"advanced_stats.csv\", index=False)"
   ]
  },
  {
   "cell_type": "code",
   "execution_count": 30,
   "metadata": {},
   "outputs": [
    {
     "name": "stdout",
     "output_type": "stream",
     "text": [
      "       Yr              Player Pos Age   Tm   G    MP   PER   TS%  3PAr  ...  \\\n",
      "0    1991      Alaa Abdelnaby  PF  22  POR  43   290  13.1  .499  .000  ...   \n",
      "1    1991  Mahmoud Abdul-Rauf  PG  21  DEN  67  1505  12.2  .448  .099  ...   \n",
      "2    1991          Mark Acres   C  28  ORL  68  1313   9.2  .551  .014  ...   \n",
      "3    1991       Michael Adams  PG  28  DEN  66  2346  22.3  .530  .397  ...   \n",
      "4    1991        Mark Aguirre  SF  31  DET  78  2006  16.7  .526  .086  ...   \n",
      "..    ...                 ...  ..  ..  ...  ..   ...   ...   ...   ...  ...   \n",
      "674  2023      Thaddeus Young  PF  34  TOR  54   795  14.1  .573  .172  ...   \n",
      "675  2023          Trae Young  PG  24  ATL  73  2541  22.0  .573  .331  ...   \n",
      "676  2023      Omer Yurtseven   C  24  MIA   9    83  16.7  .675  .259  ...   \n",
      "677  2023         Cody Zeller   C  30  MIA  15   217  16.4  .659  .034  ...   \n",
      "678  2023         Ivica Zubac   C  25  LAC  76  2170  16.7  .661  .004  ...   \n",
      "\n",
      "     TOV%  USG%   OWS   DWS    WS   WS/48  OBPM  DBPM   BPM  VORP  \n",
      "0    14.0  22.1   0.0   0.5   0.5    .079  -3.4  -1.2  -4.6  -0.2  \n",
      "1     9.5  27.2  -0.7  -0.3  -1.0  -0.031  -2.0  -3.0  -5.0  -1.1  \n",
      "2    14.0   9.3   1.4   1.1   2.5    .090  -2.8  -0.2  -3.0  -0.3  \n",
      "3    12.7  28.5   5.8   0.4   6.3    .128   6.0  -0.7   5.3   4.3  \n",
      "4    10.9  25.7   2.8   2.7   5.5    .132   1.2   0.2   1.4   1.7  \n",
      "..    ...   ...   ...   ...   ...     ...   ...   ...   ...   ...  \n",
      "674  16.7  13.5   0.7   1.1   1.8    .109  -1.8   1.9   0.1   0.4  \n",
      "675  15.2  32.6   5.3   1.4   6.7    .126   5.3  -2.0   3.3   3.4  \n",
      "676  11.9  18.0   0.2   0.1   0.3    .159  -2.5  -1.5  -3.9   0.0  \n",
      "677  15.8  18.1   0.4   0.3   0.7    .147  -2.0  -0.7  -2.8   0.0  \n",
      "678  15.9  14.8   3.8   2.9   6.7    .149  -1.1   0.2  -0.9   0.6  \n",
      "\n",
      "[18877 rows x 27 columns]\n"
     ]
    }
   ],
   "source": [
    "scrape_advanced_stats(string_years)"
   ]
  },
  {
   "cell_type": "code",
   "execution_count": 26,
   "metadata": {},
   "outputs": [],
   "source": [
    "def scrape_totals_stats(years):\n",
    "    totals_stats_df = pd.DataFrame(columns = ['Yr', 'Player', 'Pos', 'Age', 'Tm', 'G', 'GS', 'MP', 'FG', 'FGA',\n",
    "       'FG%', '3P', '3PA', '3P%', '2P', '2PA', '2P%', 'eFG%', 'FT', 'FTA', 'FT%', 'ORB', 'DRB', 'TRB', 'AST', 'STL', 'BLK', 'TOV', 'PF','PTS'])\n",
    "    for year in years:\n",
    "        url = 'https://www.basketball-reference.com/leagues/NBA_' + year + '_totals.html'\n",
    "        html = urlopen(url)\n",
    "        soup = BeautifulSoup(html, features=\"lxml\")\n",
    "        headers = [th.getText() for th in soup.findAll('tr', limit=2)[0].findAll('th')]\n",
    "        headers.remove('Rk')\n",
    "        headers.insert(0, 'Yr')\n",
    "        rows = soup.findAll('tr')[1:]\n",
    "        rows_data = [[td.getText() for td in rows[i].findAll('td')]\n",
    "                    for i in range(len(rows))]\n",
    "        rows_data = list(filter(None,rows_data))\n",
    "        for i in range(0, len(rows_data)):\n",
    "            rows_data[i].insert(0, year)\n",
    "        year_totals_stats_df = pd.DataFrame(rows_data, columns = headers)\n",
    "        totals_stats_df = totals_stats_df.append(year_totals_stats_df)\n",
    "    print(totals_stats_df)\n",
    "    totals_stats_df.to_csv(\"totals_stats.csv\", index=False)"
   ]
  },
  {
   "cell_type": "code",
   "execution_count": 28,
   "metadata": {},
   "outputs": [
    {
     "name": "stdout",
     "output_type": "stream",
     "text": [
      "       Yr              Player Pos Age   Tm   G  GS    MP   FG   FGA  ...  \\\n",
      "0    1991      Alaa Abdelnaby  PF  22  POR  43   0   290   55   116  ...   \n",
      "1    1991  Mahmoud Abdul-Rauf  PG  21  DEN  67  19  1505  417  1009  ...   \n",
      "2    1991          Mark Acres   C  28  ORL  68   0  1313  109   214  ...   \n",
      "3    1991       Michael Adams  PG  28  DEN  66  66  2346  560  1421  ...   \n",
      "4    1991        Mark Aguirre  SF  31  DET  78  13  2006  420   909  ...   \n",
      "..    ...                 ...  ..  ..  ...  ..  ..   ...  ...   ...  ...   \n",
      "674  2023      Thaddeus Young  PF  34  TOR  54   9   795  108   198  ...   \n",
      "675  2023          Trae Young  PG  24  ATL  73  73  2541  597  1390  ...   \n",
      "676  2023      Omer Yurtseven   C  24  MIA   9   0    83   16    27  ...   \n",
      "677  2023         Cody Zeller   C  30  MIA  15   2   217   37    59  ...   \n",
      "678  2023         Ivica Zubac   C  25  LAC  76  76  2170  326   514  ...   \n",
      "\n",
      "      FT%  ORB  DRB  TRB  AST  STL BLK  TOV   PF   PTS  \n",
      "0    .568   27   62   89   12    4  12   22   39   135  \n",
      "1    .857   34   87  121  206   55   4  110  149   942  \n",
      "2    .653  140  219  359   25   25  25   42  218   285  \n",
      "3    .879   58  198  256  693  147   6  240  162  1752  \n",
      "4    .757  134  240  374  139   47  20  128  209  1104  \n",
      "..    ...  ...  ...  ...  ...  ...  ..  ...  ...   ...  \n",
      "674  .692   71   95  166   75   54   5   42   88   240  \n",
      "675  .886   56  161  217  741   80   9  300  104  1914  \n",
      "676  .833    8   15   23    2    2   2    4   16    40  \n",
      "677  .686   25   39   64   10    3   4   14   33    98  \n",
      "678  .697  236  520  756   77   29  98  117  219   818  \n",
      "\n",
      "[18877 rows x 30 columns]\n"
     ]
    }
   ],
   "source": [
    "scrape_totals_stats(string_years)"
   ]
  },
  {
   "cell_type": "code",
   "execution_count": 29,
   "metadata": {},
   "outputs": [],
   "source": [
    "def scrape_pergame_stats(years):\n",
    "    pergame_stats_df = pd.DataFrame(columns = ['Yr', 'Player', 'Pos', 'Age', 'Tm', 'G', 'GS', 'MP', 'FG', 'FGA',\n",
    "       'FG%', '3P', '3PA', '3P%', '2P', '2PA', '2P%', 'eFG%', 'FT', 'FTA', 'FT%', 'ORB', 'DRB', 'TRB', 'AST', 'STL', 'BLK', 'TOV', 'PF','PTS'])\n",
    "    for year in years:\n",
    "        url = 'https://www.basketball-reference.com/leagues/NBA_' + year + '_per_game.html'\n",
    "        html = urlopen(url)\n",
    "        soup = BeautifulSoup(html, features=\"lxml\")\n",
    "        headers = [th.getText() for th in soup.findAll('tr', limit=2)[0].findAll('th')]\n",
    "        headers.remove('Rk')\n",
    "        headers.insert(0, 'Yr')\n",
    "        rows = soup.findAll('tr')[1:]\n",
    "        rows_data = [[td.getText() for td in rows[i].findAll('td')]\n",
    "                    for i in range(len(rows))]\n",
    "        rows_data = list(filter(None,rows_data))\n",
    "        for i in range(0, len(rows_data)):\n",
    "            rows_data[i].insert(0, year)\n",
    "        year_pergame_stats_df = pd.DataFrame(rows_data, columns = headers)\n",
    "        pergame_stats_df = pergame_stats_df.append(year_pergame_stats_df)\n",
    "    print(pergame_stats_df)\n",
    "    pergame_stats_df.to_csv(\"pergame_stats.csv\", index=False)"
   ]
  },
  {
   "cell_type": "code",
   "execution_count": 30,
   "metadata": {},
   "outputs": [
    {
     "name": "stdout",
     "output_type": "stream",
     "text": [
      "       Yr              Player Pos Age   Tm   G  GS    MP   FG   FGA  ...  \\\n",
      "0    1991      Alaa Abdelnaby  PF  22  POR  43   0   6.7  1.3   2.7  ...   \n",
      "1    1991  Mahmoud Abdul-Rauf  PG  21  DEN  67  19  22.5  6.2  15.1  ...   \n",
      "2    1991          Mark Acres   C  28  ORL  68   0  19.3  1.6   3.1  ...   \n",
      "3    1991       Michael Adams  PG  28  DEN  66  66  35.5  8.5  21.5  ...   \n",
      "4    1991        Mark Aguirre  SF  31  DET  78  13  25.7  5.4  11.7  ...   \n",
      "..    ...                 ...  ..  ..  ...  ..  ..   ...  ...   ...  ...   \n",
      "674  2023      Thaddeus Young  PF  34  TOR  54   9  14.7  2.0   3.7  ...   \n",
      "675  2023          Trae Young  PG  24  ATL  73  73  34.8  8.2  19.0  ...   \n",
      "676  2023      Omer Yurtseven   C  24  MIA   9   0   9.2  1.8   3.0  ...   \n",
      "677  2023         Cody Zeller   C  30  MIA  15   2  14.5  2.5   3.9  ...   \n",
      "678  2023         Ivica Zubac   C  25  LAC  76  76  28.6  4.3   6.8  ...   \n",
      "\n",
      "      FT%  ORB  DRB  TRB   AST  STL  BLK  TOV   PF   PTS  \n",
      "0    .568  0.6  1.4  2.1   0.3  0.1  0.3  0.5  0.9   3.1  \n",
      "1    .857  0.5  1.3  1.8   3.1  0.8  0.1  1.6  2.2  14.1  \n",
      "2    .653  2.1  3.2  5.3   0.4  0.4  0.4  0.6  3.2   4.2  \n",
      "3    .879  0.9  3.0  3.9  10.5  2.2  0.1  3.6  2.5  26.5  \n",
      "4    .757  1.7  3.1  4.8   1.8  0.6  0.3  1.6  2.7  14.2  \n",
      "..    ...  ...  ...  ...   ...  ...  ...  ...  ...   ...  \n",
      "674  .692  1.3  1.8  3.1   1.4  1.0  0.1  0.8  1.6   4.4  \n",
      "675  .886  0.8  2.2  3.0  10.2  1.1  0.1  4.1  1.4  26.2  \n",
      "676  .833  0.9  1.7  2.6   0.2  0.2  0.2  0.4  1.8   4.4  \n",
      "677  .686  1.7  2.6  4.3   0.7  0.2  0.3  0.9  2.2   6.5  \n",
      "678  .697  3.1  6.8  9.9   1.0  0.4  1.3  1.5  2.9  10.8  \n",
      "\n",
      "[18877 rows x 30 columns]\n"
     ]
    }
   ],
   "source": [
    "scrape_pergame_stats(string_years)"
   ]
  },
  {
   "cell_type": "code",
   "execution_count": 31,
   "metadata": {},
   "outputs": [],
   "source": [
    "def scrape_per36min_stats(years):\n",
    "    per36min_stats_df = pd.DataFrame(columns = ['Yr', 'Player', 'Pos', 'Age', 'Tm', 'G', 'GS', 'MP', 'FG', 'FGA',\n",
    "       'FG%', '3P', '3PA', '3P%', '2P', '2PA', '2P%', 'FT', 'FTA', 'FT%', 'ORB', 'DRB', 'TRB', 'AST', 'STL', 'BLK', 'TOV', 'PF','PTS'])\n",
    "    for year in years:\n",
    "        url = 'https://www.basketball-reference.com/leagues/NBA_' + year + '_per_minute.html'\n",
    "        html = urlopen(url)\n",
    "        soup = BeautifulSoup(html, features=\"lxml\")\n",
    "        headers = [th.getText() for th in soup.findAll('tr', limit=2)[0].findAll('th')]\n",
    "        headers.remove('Rk')\n",
    "        headers.insert(0, 'Yr')\n",
    "        rows = soup.findAll('tr')[1:]\n",
    "        rows_data = [[td.getText() for td in rows[i].findAll('td')]\n",
    "                    for i in range(len(rows))]\n",
    "        rows_data = list(filter(None,rows_data))\n",
    "        for i in range(0, len(rows_data)):\n",
    "            rows_data[i].insert(0, year)\n",
    "        year_per36min_stats_df = pd.DataFrame(rows_data, columns = headers)\n",
    "        per36min_stats_df = per36min_stats_df.append(year_per36min_stats_df)\n",
    "    print(per36min_stats_df)\n",
    "    per36min_stats_df.to_csv(\"per36min_stats.csv\", index=False)"
   ]
  },
  {
   "cell_type": "code",
   "execution_count": 32,
   "metadata": {},
   "outputs": [
    {
     "name": "stdout",
     "output_type": "stream",
     "text": [
      "       Yr              Player Pos Age   Tm   G  GS    MP    FG   FGA  ...  \\\n",
      "0    1991      Alaa Abdelnaby  PF  22  POR  43   0   290   6.8  14.4  ...   \n",
      "1    1991  Mahmoud Abdul-Rauf  PG  21  DEN  67  19  1505  10.0  24.1  ...   \n",
      "2    1991          Mark Acres   C  28  ORL  68   0  1313   3.0   5.9  ...   \n",
      "3    1991       Michael Adams  PG  28  DEN  66  66  2346   8.6  21.8  ...   \n",
      "4    1991        Mark Aguirre  SF  31  DET  78  13  2006   7.5  16.3  ...   \n",
      "..    ...                 ...  ..  ..  ...  ..  ..   ...   ...   ...  ...   \n",
      "674  2023      Thaddeus Young  PF  34  TOR  54   9   795   4.9   9.0  ...   \n",
      "675  2023          Trae Young  PG  24  ATL  73  73  2541   8.5  19.7  ...   \n",
      "676  2023      Omer Yurtseven   C  24  MIA   9   0    83   6.9  11.7  ...   \n",
      "677  2023         Cody Zeller   C  30  MIA  15   2   217   6.1   9.8  ...   \n",
      "678  2023         Ivica Zubac   C  25  LAC  76  76  2170   5.4   8.5  ...   \n",
      "\n",
      "      FT%  ORB  DRB   TRB   AST  STL  BLK  TOV   PF   PTS  \n",
      "0    .568  3.4  7.7  11.0   1.5  0.5  1.5  2.7  4.8  16.8  \n",
      "1    .857  0.8  2.1   2.9   4.9  1.3  0.1  2.6  3.6  22.5  \n",
      "2    .653  3.8  6.0   9.8   0.7  0.7  0.7  1.2  6.0   7.8  \n",
      "3    .879  0.9  3.0   3.9  10.6  2.3  0.1  3.7  2.5  26.9  \n",
      "4    .757  2.4  4.3   6.7   2.5  0.8  0.4  2.3  3.8  19.8  \n",
      "..    ...  ...  ...   ...   ...  ...  ...  ...  ...   ...  \n",
      "674  .692  3.2  4.3   7.5   3.4  2.4  0.2  1.9  4.0  10.9  \n",
      "675  .886  0.8  2.3   3.1  10.5  1.1  0.1  4.3  1.5  27.1  \n",
      "676  .833  3.5  6.5  10.0   0.9  0.9  0.9  1.7  6.9  17.3  \n",
      "677  .686  4.1  6.5  10.6   1.7  0.5  0.7  2.3  5.5  16.3  \n",
      "678  .697  3.9  8.6  12.5   1.3  0.5  1.6  1.9  3.6  13.6  \n",
      "\n",
      "[18877 rows x 29 columns]\n"
     ]
    }
   ],
   "source": [
    "scrape_per36min_stats(string_years)"
   ]
  },
  {
   "cell_type": "code",
   "execution_count": 33,
   "metadata": {},
   "outputs": [],
   "source": [
    "def scrape_per100pos_stats(years):\n",
    "    per100pos_stats_df = pd.DataFrame(columns = ['Yr', 'Player', 'Pos', 'Age', 'Tm', 'G', 'GS', 'MP', 'FG', 'FGA',\n",
    "       'FG%', '3P', '3PA', '3P%', '2P', '2PA', '2P%', 'FT', 'FTA', 'FT%', 'ORB', 'DRB', 'TRB', 'AST', 'STL', 'BLK', 'TOV', 'PF','PTS', 'ORtg', 'DRtg'])\n",
    "    for year in years:\n",
    "        url = 'https://www.basketball-reference.com/leagues/NBA_' + year + '_per_poss.html'\n",
    "        html = urlopen(url)\n",
    "        soup = BeautifulSoup(html, features=\"lxml\")\n",
    "        headers = [th.getText() for th in soup.findAll('tr', limit=2)[0].findAll('th')]\n",
    "        headers.remove('Rk')\n",
    "        headers.insert(0, 'Yr')\n",
    "        rows = soup.findAll('tr')[1:]\n",
    "        rows_data = [[td.getText() for td in rows[i].findAll('td')]\n",
    "                    for i in range(len(rows))]\n",
    "        rows_data = list(filter(None,rows_data))\n",
    "        for i in range(0, len(rows_data)):\n",
    "            rows_data[i].insert(0, year)\n",
    "        year_per100pos_stats_df = pd.DataFrame(rows_data, columns = headers)\n",
    "        per100pos_stats_df = per100pos_stats_df.append(year_per100pos_stats_df)\n",
    "    print(per100pos_stats_df)\n",
    "    per100pos_stats_df.to_csv(\"per100pos_stats.csv\", index=False)"
   ]
  },
  {
   "cell_type": "code",
   "execution_count": 34,
   "metadata": {},
   "outputs": [
    {
     "name": "stdout",
     "output_type": "stream",
     "text": [
      "       Yr              Player Pos Age   Tm   G  GS    MP    FG   FGA  ...  \\\n",
      "0    1991      Alaa Abdelnaby  PF  22  POR  43   0   290   9.1  19.1  ...   \n",
      "1    1991  Mahmoud Abdul-Rauf  PG  21  DEN  67  19  1505  11.7  28.3  ...   \n",
      "2    1991          Mark Acres   C  28  ORL  68   0  1313   4.0   7.9  ...   \n",
      "3    1991       Michael Adams  PG  28  DEN  66  66  2346  10.1  25.6  ...   \n",
      "4    1991        Mark Aguirre  SF  31  DET  78  13  2006  10.9  23.7  ...   \n",
      "..    ...                 ...  ..  ..  ...  ..  ..   ...   ...   ...  ...   \n",
      "674  2023      Thaddeus Young  PF  34  TOR  54   9   795   6.7  12.3  ...   \n",
      "675  2023          Trae Young  PG  24  ATL  73  73  2541  11.2  26.1  ...   \n",
      "676  2023      Omer Yurtseven   C  24  MIA   9   0    83   9.6  16.2  ...   \n",
      "677  2023         Cody Zeller   C  30  MIA  15   2   217   8.5  13.6  ...   \n",
      "678  2023         Ivica Zubac   C  25  LAC  76  76  2170   7.4  11.6  ...   \n",
      "\n",
      "      TRB   AST  STL  BLK  TOV   PF   PTS ORtg DRtg     \n",
      "0    14.7   2.0  0.7  2.0  3.6  6.4  22.2   99  103     \n",
      "1     3.4   5.8  1.5  0.1  3.1  4.2  26.4   96  118     \n",
      "2    13.2   0.9  0.9  0.9  1.5  8.0  10.5  116  109     \n",
      "3     4.6  12.5  2.6  0.1  4.3  2.9  31.5  113  115     \n",
      "4     9.7   3.6  1.2  0.5  3.3  5.4  28.7  109  105     \n",
      "..    ...   ...  ...  ...  ...  ...   ...  ...  ... ..  \n",
      "674  10.3   4.7  3.4  0.3  2.6  5.5  14.9  117  112     \n",
      "675   4.1  13.9  1.5  0.2  5.6  2.0  35.9  116  119     \n",
      "676  13.8   1.2  1.2  1.2  2.4  9.6  24.0  126  112     \n",
      "677  14.7   2.3  0.7  0.9  3.2  7.6  22.5  124  114     \n",
      "678  17.1   1.7  0.7  2.2  2.6  4.9  18.5  125  112     \n",
      "\n",
      "[18877 rows x 32 columns]\n"
     ]
    }
   ],
   "source": [
    "scrape_per100pos_stats(string_years)"
   ]
  },
  {
   "cell_type": "code",
   "execution_count": 46,
   "metadata": {},
   "outputs": [],
   "source": [
    "def scrape_team_data(years):\n",
    "    \n",
    "    teams_df = pd.DataFrame(columns = [\"Year\", \"Team\", \"W\", \"L\",\n",
    "                                       \"W/L%\", \"GB\", \"PS/G\", \"PA/G\",\n",
    "                                       \"SRS\", \"Playoffs\",\n",
    "                                       \"Losing_season\"])\n",
    "    \n",
    "    for year in years:\n",
    "        url = 'https://www.basketball-reference.com/leagues/NBA_' + year + '_standings.html'\n",
    "        html = urlopen(url)\n",
    "        \n",
    "        soup = BeautifulSoup(html, features=\"lxml\")\n",
    "        titles = [th.getText() for th in soup.findAll('tr', limit=2)[0].findAll('th')]\n",
    "        \n",
    "        headers = titles[1:titles.index(\"SRS\")+1]\n",
    "        \n",
    "        titles = titles[titles.index(\"SRS\")+1:]\n",
    "        \n",
    "        try:\n",
    "            row_titles = titles[0:titles.index(\"Eastern Conference\")]\n",
    "        except: row_titles = titles\n",
    "        for i in headers:\n",
    "            row_titles.remove(i)\n",
    "        row_titles.remove(\"Western Conference\")\n",
    "        divisions = [\"Atlantic Division\", \"Central Division\",\n",
    "                     \"Southeast Division\", \"Northwest Division\",\n",
    "                     \"Pacific Division\", \"Southwest Division\",\n",
    "                     \"Midwest Division\"]\n",
    "        for d in divisions:\n",
    "            try:\n",
    "                row_titles.remove(d)\n",
    "            except:\n",
    "                continue\n",
    "        \n",
    "        rows = soup.findAll('tr')[1:]\n",
    "        team_stats = [[td.getText() for td in rows[i].findAll('td')]\n",
    "                    for i in range(len(rows))]\n",
    "        team_stats = [e for e in team_stats if e != []]\n",
    "        team_stats = team_stats[0:len(row_titles)]\n",
    "        \n",
    "        for i in range(0, len(team_stats)):\n",
    "            team_stats[i].insert(0, row_titles[i])\n",
    "            team_stats[i].insert(0, year)\n",
    "            \n",
    "        headers.insert(0, \"Team\")\n",
    "        headers.insert(0, \"Year\")\n",
    "        \n",
    "        year_standings = pd.DataFrame(team_stats, columns = headers)\n",
    "        \n",
    "        year_standings[\"Playoffs\"] = [\"Y\" if \"*\" in ele else \"N\" for ele in year_standings[\"Team\"]]\n",
    "        year_standings[\"Team\"] = [ele.replace('*', '') for ele in year_standings[\"Team\"]]\n",
    "        year_standings[\"Losing_season\"] = [\"Y\" if float(ele) < .5 else \"N\" for ele in year_standings[\"W/L%\"]]\n",
    "        \n",
    "        teams_df = teams_df.append(year_standings)\n",
    "        \n",
    "    teams_df.to_csv(\"teams_data.csv\", index=False)"
   ]
  },
  {
   "cell_type": "code",
   "execution_count": 50,
   "metadata": {},
   "outputs": [],
   "source": [
    "scrape_team_data(string_years)"
   ]
  },
  {
   "cell_type": "code",
   "execution_count": null,
   "metadata": {},
   "outputs": [],
   "source": [
    "'Next step is to scrape awards data for MVP and DPOY for those seasons'"
   ]
  },
  {
   "cell_type": "code",
   "execution_count": null,
   "metadata": {},
   "outputs": [],
   "source": [
    "'Next step is to pull additional years from 1980-1990 for more data points and combine to the current files'"
   ]
  },
  {
   "cell_type": "code",
   "execution_count": 35,
   "metadata": {},
   "outputs": [
    {
     "data": {
      "text/plain": [
       "'Next step is to join all the separate files together using players, years, and teams as joinkeys'"
      ]
     },
     "execution_count": 35,
     "metadata": {},
     "output_type": "execute_result"
    }
   ],
   "source": [
    "'Next step is to join all the separate files together using players, years, and teams as joinkeys'"
   ]
  }
 ],
 "metadata": {
  "kernelspec": {
   "display_name": "Python (learn-env)",
   "language": "python",
   "name": "learn-env"
  },
  "language_info": {
   "codemirror_mode": {
    "name": "ipython",
    "version": 3
   },
   "file_extension": ".py",
   "mimetype": "text/x-python",
   "name": "python",
   "nbconvert_exporter": "python",
   "pygments_lexer": "ipython3",
   "version": "3.8.5"
  }
 },
 "nbformat": 4,
 "nbformat_minor": 4
}
